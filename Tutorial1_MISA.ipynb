{
  "nbformat": 4,
  "nbformat_minor": 0,
  "metadata": {
    "colab": {
      "provenance": [],
      "collapsed_sections": []
    },
    "kernelspec": {
      "name": "python3",
      "display_name": "Python 3"
    },
    "accelerator": "GPU"
  },
  "cells": [
    {
      "cell_type": "markdown",
      "metadata": {
        "id": "-KxIplL-a3R9"
      },
      "source": [
        "\n",
        "**Tutorial # 1 - Introduction**\n",
        "\n",
        "Goals:\n",
        "\n",
        "1.   Train, validate, and test a segmentation network using keras\n",
        "2.   Implement a multi-modality version and test its performance\n",
        "3.   Test effect of hyperparameters (batch size, patch size, epochs, n kernels)\n",
        "4.   Test effect of intensity standardisation\n",
        "5.   Test effect of skip connections (segnet -> unet)\n",
        "6.   Get used to keras"
      ]
    },
    {
      "cell_type": "markdown",
      "metadata": {
        "id": "HMIG5gOwa-Nb"
      },
      "source": [
        "**Import libraries**"
      ]
    },
    {
      "cell_type": "code",
      "metadata": {
        "id": "spA2vbr3a0j7"
      },
      "source": [
        "import numpy as np\n",
        "import nibabel as nib\n",
        "import matplotlib.pyplot as plt\n",
        "\n",
        "import tensorflow as tf\n",
        "\n",
        "from tensorflow import keras\n",
        "from tensorflow.keras import layers"
      ],
      "execution_count": null,
      "outputs": []
    },
    {
      "cell_type": "markdown",
      "metadata": {
        "id": "IEFUu8FjYvaz"
      },
      "source": [
        "**Define parameters**"
      ]
    },
    {
      "cell_type": "code",
      "metadata": {
        "id": "eerKWEtxUg_x"
      },
      "source": [
        "# dataset parameters\n",
        "FNAME_PATTERN = 'drive/MyDrive/iSeg2019-Training/subject-{}-{}.hdr'\n",
        "N_VOLUMES = 10\n",
        "IMAGE_SIZE = (144, 192, 256)\n",
        "\n",
        "# network parameters\n",
        "N_CLASSES = 4\n",
        "N_INPUT_CHANNELS = 2\n",
        "PATCH_SIZE = (32, 32)\n",
        "PATCH_STRIDE = (32, 32)\n",
        "\n",
        "# training, validation, test parameters\n",
        "TRAINING_VOLUMES = [0, 1, 2, 3, 4, 5, 6]\n",
        "VALIDATION_VOLUMES = [7, 8]\n",
        "TEST_VOLUMES = [9]\n",
        "\n",
        "# data preparation parameters\n",
        "CONTENT_THRESHOLD = 0.3\n",
        "\n",
        "# training parameters\n",
        "N_EPOCHS = 10\n",
        "BATCH_SIZE = 32\n",
        "PATIENCE = 10\n",
        "MODEL_FNAME_PATTERN = 'model.h5'\n",
        "OPTIMISER = 'Adam'\n",
        "LOSS = 'categorical_crossentropy'"
      ],
      "execution_count": null,
      "outputs": []
    },
    {
      "cell_type": "markdown",
      "metadata": {
        "id": "MYqbV-aZEzEx"
      },
      "source": [
        "**Mount drive**"
      ]
    },
    {
      "cell_type": "code",
      "metadata": {
        "colab": {
          "base_uri": "https://localhost:8080/"
        },
        "id": "tFJ_L_2i55hx",
        "outputId": "d3536be9-a26d-43ab-acda-dd02a345dd79"
      },
      "source": [
        "from google.colab import drive\n",
        "drive.mount(\"/content/drive\")"
      ],
      "execution_count": null,
      "outputs": [
        {
          "output_type": "stream",
          "name": "stdout",
          "text": [
            "Mounted at /content/drive\n"
          ]
        }
      ]
    },
    {
      "cell_type": "markdown",
      "metadata": {
        "id": "kakQO5X9E0oR"
      },
      "source": [
        "**Define SegNet architecture**"
      ]
    },
    {
      "cell_type": "code",
      "metadata": {
        "id": "flPaOqv0bZ3-"
      },
      "source": [
        "def get_segnet(img_size=PATCH_SIZE, n_classes=N_CLASSES, n_input_channels=N_INPUT_CHANNELS, scale=1):\n",
        "    inputs = keras.Input(shape=img_size + (n_input_channels, ))\n",
        "\n",
        "    # Encoding path\n",
        "    conv1 = layers.Conv2D(32*scale, (3, 3), padding=\"same\", activation='relu')(inputs)\n",
        "    max1 = layers.MaxPooling2D((2, 2))(conv1)\n",
        "\n",
        "    conv2 = layers.Conv2D(64*scale, (3, 3), padding=\"same\", activation='relu')(max1)\n",
        "    max2 = layers.MaxPooling2D((2, 2))(conv2)\n",
        "\n",
        "    conv3 = layers.Conv2D(128*scale, (3, 3), padding=\"same\", activation='relu')(max2)\n",
        "    max3 = layers.MaxPooling2D((2, 2))(conv3)\n",
        "\n",
        "    lat = layers.Conv2D(256*scale, (3, 3), padding=\"same\", activation='relu')(max3)\n",
        "\n",
        "    # Decoding path\n",
        "    up1 = layers.UpSampling2D((2, 2))(lat)\n",
        "    conv4 = layers.Conv2D(128*scale, (3, 3), padding=\"same\", activation='relu')(up1)\n",
        "    \n",
        "    up2 = layers.UpSampling2D((2, 2))(conv4)\n",
        "    conv5 = layers.Conv2D(64*scale, (3, 3), padding=\"same\", activation='relu')(up2)\n",
        "    \n",
        "    up3 = layers.UpSampling2D((2, 2))(conv5)\n",
        "    conv6 = layers.Conv2D(32*scale, (3, 3), padding=\"same\", activation='relu')(up3)\n",
        "\n",
        "    outputs = layers.Conv2D(n_classes, (1, 1), activation=\"softmax\")(conv6)\n",
        "\n",
        "    model = keras.Model(inputs, outputs)\n",
        "\n",
        "    return model"
      ],
      "execution_count": null,
      "outputs": []
    },
    {
      "cell_type": "markdown",
      "metadata": {
        "id": "4Z1E1IglE-0w"
      },
      "source": [
        "**Load data**"
      ]
    },
    {
      "cell_type": "code",
      "metadata": {
        "id": "z-iEv0DKfkhD"
      },
      "source": [
        "def load_data(n_volumes=N_VOLUMES, image_size=IMAGE_SIZE, fname_pattern=FNAME_PATTERN) :\n",
        "  T1_volumes = np.zeros((n_volumes, *image_size, 1))\n",
        "  T2_volumes = np.zeros((n_volumes, *image_size, 1))\n",
        "  labels = np.zeros((n_volumes, *image_size, 1))\n",
        "  for i in range(n_volumes) :\n",
        "    img_data = nib.load(fname_pattern.format(i+1, 'T1'))\n",
        "    T1_volumes[i] = img_data.get_fdata()\n",
        "\n",
        "    img_data = nib.load(fname_pattern.format(i+1, 'T2'))\n",
        "    T2_volumes[i] = img_data.get_fdata()\n",
        "\n",
        "    seg_data = nib.load(fname_pattern.format(i+1, 'label'))\n",
        "    labels[i] = seg_data.get_fdata()\n",
        "\n",
        "  return (T1_volumes, T2_volumes, labels)"
      ],
      "execution_count": null,
      "outputs": []
    },
    {
      "cell_type": "code",
      "metadata": {
        "id": "SCohHTitd5gU"
      },
      "source": [
        "(T1_volumes, T2_volumes, labels) = load_data()"
      ],
      "execution_count": null,
      "outputs": []
    },
    {
      "cell_type": "markdown",
      "metadata": {
        "id": "7SAR9yuGNzLX"
      },
      "source": [
        "**Split into training, validation and testing**"
      ]
    },
    {
      "cell_type": "code",
      "metadata": {
        "id": "vi1ZvMHYNysO"
      },
      "source": [
        "training_volumes_T1 = T1_volumes[TRAINING_VOLUMES]\n",
        "training_volumes_T2 = T2_volumes[TRAINING_VOLUMES]\n",
        "training_labels = labels[TRAINING_VOLUMES]\n",
        "\n",
        "validation_volumes_T1 = T1_volumes[VALIDATION_VOLUMES]\n",
        "validation_volumes_T2 = T2_volumes[VALIDATION_VOLUMES]\n",
        "validation_labels = labels[VALIDATION_VOLUMES]\n",
        "\n",
        "testing_volumes_T1 = T1_volumes[TEST_VOLUMES]\n",
        "testing_volumes_T2 = T2_volumes[TEST_VOLUMES]\n",
        "testing_labels = labels[TEST_VOLUMES]"
      ],
      "execution_count": null,
      "outputs": []
    },
    {
      "cell_type": "markdown",
      "metadata": {
        "id": "LpKWGJ-Fh1B_"
      },
      "source": [
        "**Pre-process data**"
      ]
    },
    {
      "cell_type": "code",
      "metadata": {
        "id": "8GPSNW8HhzNb"
      },
      "source": [
        "# def z_score_standardisation(x, avg, std):\n",
        "#   return (x-avg)/std"
      ],
      "execution_count": null,
      "outputs": []
    },
    {
      "cell_type": "markdown",
      "metadata": {
        "id": "BFDtzyW6FH7x"
      },
      "source": [
        "**Extract *useful* patches**\n",
        "\n",
        "This step is fundamental, we want to provide the network with useful information"
      ]
    },
    {
      "cell_type": "code",
      "metadata": {
        "id": "v4qyfiRaf7n2"
      },
      "source": [
        "def extract_patches(x, patch_size, patch_stride) :\n",
        "  return tf.image.extract_patches(\n",
        "    x,\n",
        "    sizes=[1, *patch_size, 1],\n",
        "    strides=[1, *patch_stride, 1],\n",
        "    rates=[1, 1, 1, 1],\n",
        "    padding='SAME', name=None)"
      ],
      "execution_count": null,
      "outputs": []
    },
    {
      "cell_type": "code",
      "metadata": {
        "id": "nsKNTm-Lf-sb"
      },
      "source": [
        "def extract_useful_patches(\n",
        "    volumes, labels,\n",
        "    image_size=IMAGE_SIZE,\n",
        "    patch_size=PATCH_SIZE,\n",
        "    stride=PATCH_STRIDE,\n",
        "    threshold=CONTENT_THRESHOLD,\n",
        "    num_classes=N_CLASSES) :\n",
        "  volumes = volumes.reshape([-1, image_size[1], image_size[2], 1])\n",
        "  labels = labels.reshape([-1, image_size[1], image_size[2], 1])\n",
        "\n",
        "  vol_patches = extract_patches(volumes, patch_size, stride).numpy()\n",
        "  seg_patches = extract_patches(labels, patch_size, stride).numpy()\n",
        "\n",
        "  vol_patches = vol_patches.reshape([-1, *patch_size, 1])\n",
        "  seg_patches = seg_patches.reshape([-1, *patch_size, ])\n",
        "\n",
        "  foreground_mask = seg_patches != 0\n",
        "\n",
        "  useful_patches = foreground_mask.sum(axis=(1, 2)) > threshold * np.prod(patch_size)\n",
        "\n",
        "  vol_patches = vol_patches[useful_patches]\n",
        "  seg_patches = seg_patches[useful_patches]\n",
        "\n",
        "  seg_patches = tf.keras.utils.to_categorical(\n",
        "    seg_patches, num_classes=N_CLASSES, dtype='float32')\n",
        "  \n",
        "  return (vol_patches, seg_patches)"
      ],
      "execution_count": null,
      "outputs": []
    },
    {
      "cell_type": "code",
      "metadata": {
        "id": "tTcoEi426bfg"
      },
      "source": [
        "# extract patches from training set\n",
        "(training_patches_T1, training_patches_seg) = extract_useful_patches(training_volumes_T1, training_labels)\n",
        "(training_patches_T2, _) = extract_useful_patches(training_volumes_T2, training_labels)\n",
        "\n",
        "# extract patches from validation set\n",
        "(validation_patches_T1, validation_patches_seg) = extract_useful_patches(validation_volumes_T1, validation_labels)\n",
        "(validation_patches_T2, _) = extract_useful_patches(validation_volumes_T2, validation_labels)"
      ],
      "execution_count": null,
      "outputs": []
    },
    {
      "cell_type": "markdown",
      "metadata": {
        "id": "bJYxf3HiFopr"
      },
      "source": [
        "**Instantiate SegNet model and train it**\n",
        "\n",
        "*   When/how do we stop training?\n",
        "*   Should we use validation split in keras?\n",
        "*   How large should the batch size be?"
      ]
    },
    {
      "cell_type": "code",
      "metadata": {
        "id": "w7M1Az8uI1BE"
      },
      "source": [
        "# segnet = get_segnet()\n",
        "# segnet.compile(optimizer=OPTIMISER, loss=LOSS)\n",
        "# h = segnet.fit(\n",
        "#     x=training_patches_T1,\n",
        "#     y=training_patches_seg,\n",
        "#     validation_data=(validation_patches_T1, validation_patches_seg),\n",
        "#     batch_size=BATCH_SIZE,\n",
        "#     epochs=N_EPOCHS,\n",
        "#     verbose=1)"
      ],
      "execution_count": null,
      "outputs": []
    },
    {
      "cell_type": "markdown",
      "metadata": {
        "id": "fjIfjtiaKYr1"
      },
      "source": [
        "We could stop training when validation loss increases substantially"
      ]
    },
    {
      "cell_type": "code",
      "metadata": {
        "id": "bspE_hozI9zN"
      },
      "source": [
        "# plt.figure()\n",
        "# plt.plot(range(N_EPOCHS), h.history['loss'], label='loss')\n",
        "# plt.plot(range(N_EPOCHS), h.history['val_loss'], label='val_loss')\n",
        "# plt.legend()\n",
        "# plt.show()"
      ],
      "execution_count": null,
      "outputs": []
    },
    {
      "cell_type": "markdown",
      "metadata": {
        "id": "EkBp70aWGB_b"
      },
      "source": [
        "Using callbacks to stop training and avoid overfitting\n",
        "\n",
        "\n",
        "*   Early stopping with a certain patience\n",
        "*   Save (and load!) best model\n",
        "\n"
      ]
    },
    {
      "cell_type": "code",
      "metadata": {
        "colab": {
          "base_uri": "https://localhost:8080/"
        },
        "id": "j7H9hIPwEwJZ",
        "outputId": "d4c0237b-cae0-4666-c7fd-96a0f39de184"
      },
      "source": [
        "my_callbacks = [\n",
        "    tf.keras.callbacks.EarlyStopping(patience=PATIENCE),\n",
        "    tf.keras.callbacks.ModelCheckpoint(filepath=MODEL_FNAME_PATTERN, save_best_only=True)\n",
        "]\n",
        "\n",
        "segnet = get_segnet()\n",
        "segnet.compile(optimizer=OPTIMISER, loss=LOSS)\n",
        "segnet.fit(\n",
        "    x=np.concatenate((training_patches_T1, training_patches_T2), axis=-1), \n",
        "    y=training_patches_seg,\n",
        "    validation_data=(np.concatenate((validation_patches_T1, validation_patches_T2), axis=-1), validation_patches_seg),\n",
        "    batch_size=BATCH_SIZE,\n",
        "    epochs=N_EPOCHS,\n",
        "    callbacks=my_callbacks,\n",
        "    verbose=1)"
      ],
      "execution_count": null,
      "outputs": [
        {
          "output_type": "stream",
          "name": "stdout",
          "text": [
            "Epoch 1/10\n",
            "213/213 [==============================] - 11s 11ms/step - loss: 0.9286 - val_loss: 0.5666\n",
            "Epoch 2/10\n",
            "213/213 [==============================] - 2s 10ms/step - loss: 0.5328 - val_loss: 0.5268\n",
            "Epoch 3/10\n",
            "213/213 [==============================] - 2s 9ms/step - loss: 0.4824 - val_loss: 0.4923\n",
            "Epoch 4/10\n",
            "213/213 [==============================] - 2s 8ms/step - loss: 0.4510 - val_loss: 0.4750\n",
            "Epoch 5/10\n",
            "213/213 [==============================] - 2s 9ms/step - loss: 0.4232 - val_loss: 0.4646\n",
            "Epoch 6/10\n",
            "213/213 [==============================] - 2s 8ms/step - loss: 0.4066 - val_loss: 0.4625\n",
            "Epoch 7/10\n",
            "213/213 [==============================] - 2s 9ms/step - loss: 0.3888 - val_loss: 0.4483\n",
            "Epoch 8/10\n",
            "213/213 [==============================] - 2s 9ms/step - loss: 0.3761 - val_loss: 0.4404\n",
            "Epoch 9/10\n",
            "213/213 [==============================] - 2s 9ms/step - loss: 0.3622 - val_loss: 0.4452\n",
            "Epoch 10/10\n",
            "213/213 [==============================] - 2s 8ms/step - loss: 0.3485 - val_loss: 0.4283\n"
          ]
        },
        {
          "output_type": "execute_result",
          "data": {
            "text/plain": [
              "<keras.callbacks.History at 0x7fc9605f8690>"
            ]
          },
          "metadata": {},
          "execution_count": 14
        }
      ]
    },
    {
      "cell_type": "markdown",
      "metadata": {
        "id": "XGcfrZCMjz4M"
      },
      "source": [
        "**Load best model**"
      ]
    },
    {
      "cell_type": "code",
      "metadata": {
        "id": "5fNsYJL7KnON"
      },
      "source": [
        "segnet = get_segnet(\n",
        "    img_size=(IMAGE_SIZE[1], IMAGE_SIZE[2]),\n",
        "    n_classes=N_CLASSES,\n",
        "    n_input_channels=N_INPUT_CHANNELS)\n",
        "\n",
        "segnet.compile(optimizer=OPTIMISER, loss=LOSS)\n",
        "segnet.load_weights('model.h5')"
      ],
      "execution_count": null,
      "outputs": []
    },
    {
      "cell_type": "markdown",
      "metadata": {
        "id": "CwPzN0jrSm8r"
      },
      "source": [
        "**Prepare test data**"
      ]
    },
    {
      "cell_type": "code",
      "metadata": {
        "id": "vuRHLNYGkDFp"
      },
      "source": [
        "testing_volumes_T1_processed = testing_volumes_T1.reshape([-1, IMAGE_SIZE[1], IMAGE_SIZE[2], 1])\n",
        "testing_volumes_T2_processed = testing_volumes_T2.reshape([-1, IMAGE_SIZE[1], IMAGE_SIZE[2], 1])\n",
        "testing_labels_processed = testing_labels.reshape([-1, IMAGE_SIZE[1], IMAGE_SIZE[2]])"
      ],
      "execution_count": null,
      "outputs": []
    },
    {
      "cell_type": "markdown",
      "metadata": {
        "id": "xbJZUQyLqF4p"
      },
      "source": [
        "**Predict labels for test data**"
      ]
    },
    {
      "cell_type": "code",
      "metadata": {
        "id": "ItoY31x0K3r8",
        "colab": {
          "base_uri": "https://localhost:8080/",
          "height": 305
        },
        "outputId": "678da4bf-f4d7-4715-ecbc-e60d9bde0176"
      },
      "source": [
        "prediction = segnet.predict(x=np.concatenate((testing_volumes_T1_processed, testing_volumes_T2_processed), axis=-1))\n",
        "\n",
        "prediction = np.argmax(prediction, axis=3)\n",
        "\n",
        "plt.imshow(prediction[:, :, 150])"
      ],
      "execution_count": null,
      "outputs": [
        {
          "output_type": "stream",
          "name": "stdout",
          "text": [
            "5/5 [==============================] - 0s 83ms/step\n"
          ]
        },
        {
          "output_type": "execute_result",
          "data": {
            "text/plain": [
              "<matplotlib.image.AxesImage at 0x7fc90603ff50>"
            ]
          },
          "metadata": {},
          "execution_count": 23
        },
        {
          "output_type": "display_data",
          "data": {
            "text/plain": [
              "<Figure size 432x288 with 1 Axes>"
            ],
            "image/png": "[encoded data removed]"
          },
          "metadata": {
            "needs_background": "light"
          }
        }
      ]
    },
    {
      "cell_type": "code",
      "source": [
        "!pip install medpy"
      ],
      "metadata": {
        "colab": {
          "base_uri": "https://localhost:8080/"
        },
        "id": "LT2ZICiRH4BG",
        "outputId": "7df93cda-96e7-4ceb-84cd-4b7f7bf7a55e"
      },
      "execution_count": null,
      "outputs": [
        {
          "output_type": "stream",
          "name": "stdout",
          "text": [
            "Looking in indexes: https://pypi.org/simple, https://us-python.pkg.dev/colab-wheels/public/simple/\n",
            "Requirement already satisfied: medpy in /usr/local/lib/python3.7/dist-packages (0.4.0)\n",
            "Requirement already satisfied: numpy>=1.11.0 in /usr/local/lib/python3.7/dist-packages (from medpy) (1.21.6)\n",
            "Requirement already satisfied: scipy>=1.1.0 in /usr/local/lib/python3.7/dist-packages (from medpy) (1.7.3)\n",
            "Requirement already satisfied: SimpleITK>=1.1.0 in /usr/local/lib/python3.7/dist-packages (from medpy) (2.2.0)\n"
          ]
        }
      ]
    },
    {
      "cell_type": "code",
      "metadata": {
        "id": "1FraQquLu-Lv",
        "colab": {
          "base_uri": "https://localhost:8080/"
        },
        "outputId": "bb7a9c73-5d86-4fac-cac5-396ca9a81b34"
      },
      "source": [
        "import numpy as np\n",
        "import nibabel as nib\n",
        "from medpy.metric.binary import dc, hd, ravd\n",
        "\n",
        "def compute_dice(prediction, reference) :\n",
        "  for c in np.unique(prediction) :\n",
        "    dsc_val = dc(prediction == c, reference==c)\n",
        "    print(f'Dice coefficient class {c} equal to {dsc_val : .2f}')\n",
        "\n",
        "def compute_hd(prediction, reference, voxel_spacing) :\n",
        "  for c in np.unique(prediction) :\n",
        "    hd_val = hd(prediction == c, reference==c, voxelspacing=voxel_spacing, connectivity=1)\n",
        "    print(f'Hausdorff distance class {c} equal to {hd_val : .2f}')\n",
        "\n",
        "def compute_ravd(prediction, reference) :\n",
        "  for c in np.unique(prediction) :\n",
        "    ravd_val = ravd(prediction == c, reference==c)\n",
        "    print(f'Dice coefficient class {c} equal to {ravd_val : .2f}')\n",
        "\n",
        "compute_dice(prediction, testing_labels_processed)\n",
        "compute_hd(prediction, testing_labels_processed, [1, 1, 1])\n",
        "compute_ravd(prediction, testing_labels_processed)"
      ],
      "execution_count": null,
      "outputs": [
        {
          "output_type": "stream",
          "name": "stdout",
          "text": [
            "Dice coefficient class 0 equal to  0.98\n",
            "Dice coefficient class 1 equal to  0.53\n",
            "Dice coefficient class 2 equal to  0.77\n",
            "Dice coefficient class 3 equal to  0.67\n",
            "Hausdorff distance class 0 equal to  29.61\n",
            "Hausdorff distance class 1 equal to  136.78\n",
            "Hausdorff distance class 2 equal to  138.97\n",
            "Hausdorff distance class 3 equal to  9.49\n",
            "Dice coefficient class 0 equal to -0.03\n",
            "Dice coefficient class 1 equal to  1.12\n",
            "Dice coefficient class 2 equal to -0.08\n",
            "Dice coefficient class 3 equal to  0.18\n"
          ]
        }
      ]
    }
  ]
}